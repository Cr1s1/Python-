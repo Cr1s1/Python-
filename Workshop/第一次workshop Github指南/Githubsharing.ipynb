{
 "cells": [
  {
   "cell_type": "markdown",
   "metadata": {},
   "source": [
    "# Githubsharing"
   ]
  },
  {
   "cell_type": "markdown",
   "metadata": {},
   "source": [
    "## Python-100-Days"
   ]
  },
  {
   "cell_type": "code",
   "execution_count": 1,
   "metadata": {},
   "outputs": [
    {
     "name": "stdout",
     "output_type": "stream",
     "text": [
      "5050\n"
     ]
    }
   ],
   "source": [
    "sum = 0\n",
    "for x in range(101):\n",
    "    sum += x\n",
    "print(sum)"
   ]
  },
  {
   "cell_type": "markdown",
   "metadata": {},
   "source": [
    "## Free-python-games"
   ]
  },
  {
   "cell_type": "code",
   "execution_count": 2,
   "metadata": {},
   "outputs": [
    {
     "name": "stdout",
     "output_type": "stream",
     "text": [
      "20\n",
      "I'm thinking of a number between 1 and 100\n",
      "Guess the number: 20\n",
      "Congratulations! You guessed the right answer: 20\n"
     ]
    }
   ],
   "source": [
    "\"\"\"Guess a number within a range.\n",
    "Exercises\n",
    "1. Change the range to be from 0 to 1,000,000.\n",
    "2. Can you still guess the number?\n",
    "3. Print the number of guesses made.\n",
    "4. Limit the number of guesses to the minimum required.\n",
    "\"\"\"\n",
    "from random import randint\n",
    "start = 1\n",
    "end = 100\n",
    "value = randint(start, end)\n",
    "#print(value)\n",
    "print(\"I'm thinking of a number between\", start, \"and\", end)\n",
    "guess = None\n",
    "while guess != value:\n",
    "    text = input(\"Guess the number: \")\n",
    "    guess = int(text)\n",
    "\n",
    "    if guess < value:\n",
    "        print(\"Higher.\")\n",
    "    elif guess > value:\n",
    "        print(\"Lower.\")\n",
    "print(\"Congratulations! You guessed the right answer:\", value)"
   ]
  },
  {
   "cell_type": "markdown",
   "metadata": {},
   "source": [
    "## 100-pandas-puzzles"
   ]
  },
  {
   "cell_type": "code",
   "execution_count": 4,
   "metadata": {},
   "outputs": [],
   "source": [
    "import pandas as pd\n",
    "import numpy as np\n",
    "data = {'animal': ['cat', 'cat', 'snake', 'dog', 'dog', 'cat', 'snake', 'cat', 'dog', 'dog'],\n",
    "        'age': [2.5, 3, 0.5, np.nan, 5, 2, 4.5, np.nan, 7, 3],\n",
    "        'visits': [1, 3, 2, 3, 2, 3, 1, 1, 2, 1],\n",
    "        'priority': ['yes', 'yes', 'no', 'yes', 'no', 'no', 'no', 'yes', 'no', 'no']}\n",
    "labels = ['a', 'b', 'c', 'd', 'e', 'f', 'g', 'h', 'i', 'j']\n",
    "df = pd.DataFrame(data, index=labels)"
   ]
  },
  {
   "cell_type": "markdown",
   "metadata": {},
   "source": [
    "### 18. Sort df first by the values in the 'age' in decending order, then by the value in the 'visits' column in ascending order (so row i should be first, and row d should be last)."
   ]
  },
  {
   "cell_type": "code",
   "execution_count": 5,
   "metadata": {},
   "outputs": [
    {
     "data": {
      "text/html": [
       "<div>\n",
       "<style scoped>\n",
       "    .dataframe tbody tr th:only-of-type {\n",
       "        vertical-align: middle;\n",
       "    }\n",
       "\n",
       "    .dataframe tbody tr th {\n",
       "        vertical-align: top;\n",
       "    }\n",
       "\n",
       "    .dataframe thead th {\n",
       "        text-align: right;\n",
       "    }\n",
       "</style>\n",
       "<table border=\"1\" class=\"dataframe\">\n",
       "  <thead>\n",
       "    <tr style=\"text-align: right;\">\n",
       "      <th></th>\n",
       "      <th>animal</th>\n",
       "      <th>age</th>\n",
       "      <th>visits</th>\n",
       "      <th>priority</th>\n",
       "    </tr>\n",
       "  </thead>\n",
       "  <tbody>\n",
       "    <tr>\n",
       "      <th>i</th>\n",
       "      <td>dog</td>\n",
       "      <td>7.0</td>\n",
       "      <td>2</td>\n",
       "      <td>no</td>\n",
       "    </tr>\n",
       "    <tr>\n",
       "      <th>e</th>\n",
       "      <td>dog</td>\n",
       "      <td>5.0</td>\n",
       "      <td>2</td>\n",
       "      <td>no</td>\n",
       "    </tr>\n",
       "    <tr>\n",
       "      <th>g</th>\n",
       "      <td>snake</td>\n",
       "      <td>4.5</td>\n",
       "      <td>1</td>\n",
       "      <td>no</td>\n",
       "    </tr>\n",
       "    <tr>\n",
       "      <th>j</th>\n",
       "      <td>dog</td>\n",
       "      <td>3.0</td>\n",
       "      <td>1</td>\n",
       "      <td>no</td>\n",
       "    </tr>\n",
       "    <tr>\n",
       "      <th>b</th>\n",
       "      <td>cat</td>\n",
       "      <td>3.0</td>\n",
       "      <td>3</td>\n",
       "      <td>yes</td>\n",
       "    </tr>\n",
       "    <tr>\n",
       "      <th>a</th>\n",
       "      <td>cat</td>\n",
       "      <td>2.5</td>\n",
       "      <td>1</td>\n",
       "      <td>yes</td>\n",
       "    </tr>\n",
       "    <tr>\n",
       "      <th>f</th>\n",
       "      <td>cat</td>\n",
       "      <td>2.0</td>\n",
       "      <td>3</td>\n",
       "      <td>no</td>\n",
       "    </tr>\n",
       "    <tr>\n",
       "      <th>c</th>\n",
       "      <td>snake</td>\n",
       "      <td>0.5</td>\n",
       "      <td>2</td>\n",
       "      <td>no</td>\n",
       "    </tr>\n",
       "    <tr>\n",
       "      <th>h</th>\n",
       "      <td>cat</td>\n",
       "      <td>NaN</td>\n",
       "      <td>1</td>\n",
       "      <td>yes</td>\n",
       "    </tr>\n",
       "    <tr>\n",
       "      <th>d</th>\n",
       "      <td>dog</td>\n",
       "      <td>NaN</td>\n",
       "      <td>3</td>\n",
       "      <td>yes</td>\n",
       "    </tr>\n",
       "  </tbody>\n",
       "</table>\n",
       "</div>"
      ],
      "text/plain": [
       "  animal  age  visits priority\n",
       "i    dog  7.0       2       no\n",
       "e    dog  5.0       2       no\n",
       "g  snake  4.5       1       no\n",
       "j    dog  3.0       1       no\n",
       "b    cat  3.0       3      yes\n",
       "a    cat  2.5       1      yes\n",
       "f    cat  2.0       3       no\n",
       "c  snake  0.5       2       no\n",
       "h    cat  NaN       1      yes\n",
       "d    dog  NaN       3      yes"
      ]
     },
     "execution_count": 5,
     "metadata": {},
     "output_type": "execute_result"
    }
   ],
   "source": [
    "df.sort_values(by=['age', 'visits'], ascending=[False, True])"
   ]
  },
  {
   "cell_type": "markdown",
   "metadata": {},
   "source": [
    "## Numpy-100"
   ]
  },
  {
   "cell_type": "markdown",
   "metadata": {},
   "source": [
    "### 13. Create a 10x10 array with random values and find the minimum and maximum values (★☆☆)"
   ]
  },
  {
   "cell_type": "code",
   "execution_count": 2,
   "metadata": {},
   "outputs": [
    {
     "name": "stdout",
     "output_type": "stream",
     "text": [
      "[[0.35866156 0.86807234 0.21821243 0.3366488  0.73792254 0.17833255\n",
      "  0.64006889 0.78736827 0.24603005 0.24884102]\n",
      " [0.32696716 0.25872456 0.73529303 0.44170038 0.0414006  0.00680145\n",
      "  0.23894065 0.7494646  0.1129393  0.19768005]\n",
      " [0.16968602 0.84776487 0.03678324 0.94071522 0.17500344 0.71547197\n",
      "  0.7221429  0.30785634 0.92725731 0.26198751]\n",
      " [0.8899567  0.93982078 0.21490785 0.87344745 0.67740698 0.04585366\n",
      "  0.00225547 0.8753136  0.7693795  0.04142975]\n",
      " [0.62919548 0.92785504 0.43708939 0.21681964 0.1311267  0.83288113\n",
      "  0.49297698 0.92558388 0.18143468 0.09331663]\n",
      " [0.91082841 0.61698058 0.7914843  0.51836398 0.38417687 0.47402364\n",
      "  0.38598636 0.71832883 0.63074399 0.97094219]\n",
      " [0.60507773 0.9188126  0.08701864 0.4143762  0.65807623 0.09758873\n",
      "  0.17587823 0.74005095 0.40981739 0.78860095]\n",
      " [0.5737493  0.08398226 0.10184782 0.87318236 0.8863119  0.00560674\n",
      "  0.1265366  0.67296199 0.57680696 0.06429243]\n",
      " [0.95455303 0.66137765 0.66706052 0.25618705 0.20965411 0.96803437\n",
      "  0.77708446 0.39660133 0.10384475 0.39268222]\n",
      " [0.8834268  0.40699464 0.11170171 0.5548922  0.35253404 0.03146473\n",
      "  0.68141418 0.10286963 0.04601075 0.4819854 ]]\n",
      "0.002255466516155602 0.9709421947794005\n"
     ]
    }
   ],
   "source": [
    "import numpy as np\n",
    "Z = np.random.random((10,10))\n",
    "Zmin, Zmax = Z.min(), Z.max()\n",
    "print(Z)\n",
    "print(Zmin, Zmax)"
   ]
  },
  {
   "cell_type": "markdown",
   "metadata": {},
   "source": [
    "## Awesome-spider"
   ]
  },
  {
   "cell_type": "markdown",
   "metadata": {},
   "source": [
    "## Learn_python3_spider"
   ]
  },
  {
   "cell_type": "code",
   "execution_count": 1,
   "metadata": {},
   "outputs": [],
   "source": [
    "import requests\n",
    "import re\n",
    "import json\n",
    "def request_dandan(url):\n",
    "    try:\n",
    "        response = requests.get(url)\n",
    "        if response.status_code == 200:\n",
    "            return response.text\n",
    "    except requests.RequestException:\n",
    "        return None\n",
    "def parse_result(html):\n",
    "    pattern = re.compile(\n",
    "        '<li>.*?list_num.*?(\\d+).</div>.*?<img src=\"(.*?)\".*?class=\"name\".*?title=\"(.*?)\">.*?class=\"star\">.*?class=\"tuijian\">(.*?)</span>.*?class=\"publisher_info\">.*?target=\"_blank\">(.*?)</a>.*?class=\"biaosheng\">.*?<span>(.*?)</span></div>.*?<p><span\\sclass=\"price_n\">¥(.*?)</span>.*?</li>',\n",
    "        re.S)\n",
    "    items = re.findall(pattern, html)\n",
    "    for item in items:\n",
    "        yield {\n",
    "            'range': item[0],\n",
    "            'iamge': item[1],\n",
    "            'title': item[2],\n",
    "            'recommend': item[3],\n",
    "            'author': item[4],\n",
    "            'times': item[5],\n",
    "            'price': item[6]\n",
    "        }\n",
    "def write_item_to_file(item):\n",
    "    print('开始写入数据 ====> ' + str(item))\n",
    "    with open('book.txt', 'a', encoding='UTF-8') as f:\n",
    "        f.write(json.dumps(item, ensure_ascii=False) + '\\n')\n",
    "def main(page):\n",
    "    url = 'http://bang.dangdang.com/books/fivestars/01.00.00.00.00.00-recent30-0-0-1-' + str(page)\n",
    "    html = request_dandan(url)\n",
    "    items = parse_result(html)  # 解析过滤我们想要的信息\n",
    "    for item in items:\n",
    "        write_item_to_file(item)\n",
    "if __name__ == \"__main__\":\n",
    "    for i in range(1, 25):\n",
    "        main(i)"
   ]
  },
  {
   "cell_type": "code",
   "execution_count": null,
   "metadata": {},
   "outputs": [],
   "source": []
  }
 ],
 "metadata": {
  "kernelspec": {
   "display_name": "Python 3",
   "language": "python",
   "name": "python3"
  },
  "language_info": {
   "codemirror_mode": {
    "name": "ipython",
    "version": 3
   },
   "file_extension": ".py",
   "mimetype": "text/x-python",
   "name": "python",
   "nbconvert_exporter": "python",
   "pygments_lexer": "ipython3",
   "version": "3.8.3"
  }
 },
 "nbformat": 4,
 "nbformat_minor": 4
}
